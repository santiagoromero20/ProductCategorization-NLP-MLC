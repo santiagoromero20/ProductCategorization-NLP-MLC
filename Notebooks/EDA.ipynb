{
 "cells": [
  {
   "cell_type": "markdown",
   "metadata": {},
   "source": [
    "# **Exploratory Data Analysis**"
   ]
  },
  {
   "cell_type": "markdown",
   "metadata": {},
   "source": [
    "## Data Exploration"
   ]
  },
  {
   "cell_type": "code",
   "execution_count": 1,
   "metadata": {},
   "outputs": [],
   "source": [
    "import json"
   ]
  },
  {
   "cell_type": "code",
   "execution_count": 2,
   "metadata": {},
   "outputs": [
    {
     "data": {
      "text/plain": [
       "{'sku': 43900,\n",
       " 'name': 'Duracell - AAA Batteries (4-Pack)',\n",
       " 'type': 'HardGood',\n",
       " 'price': 5.49,\n",
       " 'upc': '041333424019',\n",
       " 'category': [{'id': 'pcmcat312300050015',\n",
       "   'name': 'Connected Home & Housewares'},\n",
       "  {'id': 'pcmcat248700050021', 'name': 'Housewares'},\n",
       "  {'id': 'pcmcat303600050001', 'name': 'Household Batteries'},\n",
       "  {'id': 'abcat0208002', 'name': 'Alkaline Batteries'}],\n",
       " 'shipping': 5.49,\n",
       " 'description': 'Compatible with select electronic devices; AAA size; DURALOCK Power Preserve technology; 4-pack',\n",
       " 'manufacturer': 'Duracell',\n",
       " 'model': 'MN2400B4Z',\n",
       " 'url': 'http://www.bestbuy.com/site/duracell-aaa-batteries-4-pack/43900.p?id=1051384074145&skuId=43900&cmp=RMXCC',\n",
       " 'image': 'http://img.bbystatic.com/BestBuy_US/images/products/4390/43900_sa.jpg'}"
      ]
     },
     "execution_count": 2,
     "metadata": {},
     "output_type": "execute_result"
    }
   ],
   "source": [
    "f = open('/Users/carolinapeinado/Desktop/Santi/FinalSprintProject/Data/products.json')\n",
    "product_data = json.load(f)\n",
    "product_data[0]"
   ]
  },
  {
   "cell_type": "code",
   "execution_count": 3,
   "metadata": {},
   "outputs": [
    {
     "data": {
      "text/plain": [
       "{'id': 'abcat0010000',\n",
       " 'name': 'Gift Ideas',\n",
       " 'path': [{'id': 'abcat0010000', 'name': 'Gift Ideas'}],\n",
       " 'subCategories': [{'id': 'pcmcat140000050035',\n",
       "   'name': 'Capturing Photos & Videos'},\n",
       "  {'id': 'pcmcat140000050036', 'name': 'Listening to Digital Music'},\n",
       "  {'id': 'pcmcat140000050037', 'name': 'Computing Made Easy'},\n",
       "  {'id': 'pcmcat140000050039', 'name': 'Simple GPS Navigation'},\n",
       "  {'id': 'pcmcat140000050040', 'name': 'Playing Video Games'},\n",
       "  {'id': 'pcmcat140000050041', 'name': 'Watching HDTV'},\n",
       "  {'id': 'pcmcat140000050042', 'name': 'Enjoying Favorite Movies'},\n",
       "  {'id': 'abcat0012000', 'name': 'Him'},\n",
       "  {'id': 'abcat0011000', 'name': 'Her'},\n",
       "  {'id': 'abcat0013000', 'name': 'Teens'},\n",
       "  {'id': 'abcat0014000', 'name': 'Kids'},\n",
       "  {'id': 'pcmcat84000050001', 'name': 'Anniversaries'},\n",
       "  {'id': 'pcmcat84000050004', 'name': 'Baby Showers'},\n",
       "  {'id': 'pcmcat94300050028', 'name': 'Birthdays'},\n",
       "  {'id': 'pcmcat84000050002', 'name': 'Business Gifts'},\n",
       "  {'id': 'pcmcat84000050003', 'name': 'Graduations'},\n",
       "  {'id': 'pcmcat84000050000', 'name': 'Weddings'},\n",
       "  {'id': 'abcat0020004', 'name': 'Unique Gifts'},\n",
       "  {'id': 'pcmcat111900050004', 'name': 'Pink and Red Gifts'},\n",
       "  {'id': 'abcat0020006', 'name': 'Prepaid Cards'},\n",
       "  {'id': 'pcmcat231900050003', 'name': 'eGift Cards'},\n",
       "  {'id': 'pcmcat253700050028', 'name': 'QP Test Category'},\n",
       "  {'id': 'pcmcat312700050000', 'name': 'Our Favorite Gift Ideas'},\n",
       "  {'id': 'pcmcat327600050005', 'name': 'Easter Made Easy'},\n",
       "  {'id': 'pcmcat327600050006', 'name': 'Brunches Made Easy'},\n",
       "  {'id': 'pcmcat332300050004', 'name': 'Grads Gifting'},\n",
       "  {'id': 'pcmcat748300579354', 'name': 'Family Gift Ideas'},\n",
       "  {'id': 'pcmcat748301108075', 'name': 'Stocking Stuffers'}]}"
      ]
     },
     "execution_count": 3,
     "metadata": {},
     "output_type": "execute_result"
    }
   ],
   "source": [
    "f = open('/Users/carolinapeinado/Desktop/Santi/FinalSprintProject/Data/categories.json')\n",
    "cat_data = json.load(f)\n",
    "cat_data[0]"
   ]
  },
  {
   "cell_type": "code",
   "execution_count": 4,
   "metadata": {},
   "outputs": [
    {
     "data": {
      "text/plain": [
       "{'id': 1000,\n",
       " 'type': 'BigBox',\n",
       " 'name': 'Mall of America',\n",
       " 'address': '340 W Market',\n",
       " 'address2': '',\n",
       " 'city': 'Bloomington',\n",
       " 'state': 'MN',\n",
       " 'zip': '55425',\n",
       " 'location': {'lat': 44.85466, 'lon': -93.24565},\n",
       " 'hours': 'Mon: 10-9:30; Tue: 10-9:30; Wed: 10-9:30; Thurs: 10-9:30; Fri: 10-9:30; Sat: 10-9:30; Sun: 11-7',\n",
       " 'services': ['Geek Squad Services',\n",
       "  'Best Buy Mobile',\n",
       "  'Best Buy For Business',\n",
       "  'Apple Shop',\n",
       "  'Hablamos Español',\n",
       "  'Camera Experience Shop ',\n",
       "  'Electronics Recycling',\n",
       "  'Magnolia Home Theater',\n",
       "  'Samsung Experience Shop',\n",
       "  'Windows Store']}"
      ]
     },
     "execution_count": 4,
     "metadata": {},
     "output_type": "execute_result"
    }
   ],
   "source": [
    "f = open('/Users/carolinapeinado/Desktop/Santi/FinalSprintProject/Data/stores.json')\n",
    "stores_data = json.load(f)\n",
    "stores_data[0]"
   ]
  },
  {
   "cell_type": "markdown",
   "metadata": {},
   "source": [
    "## Data Analysis"
   ]
  },
  {
   "cell_type": "code",
   "execution_count": 34,
   "metadata": {},
   "outputs": [],
   "source": [
    "import pandas as pd\n",
    "import numpy as np\n",
    "import matplotlib.pyplot as plt\n",
    "import seaborn as sns\n",
    "import IPython.display\n",
    "import warnings\n",
    "import time\n",
    "import math\n",
    "import joblib\n",
    "from scipy import sparse\n",
    "%matplotlib inline"
   ]
  },
  {
   "cell_type": "code",
   "execution_count": 6,
   "metadata": {},
   "outputs": [],
   "source": [
    "#Make the DataFrame for further analysis\n",
    "column_names = ['name','description','categories']\n",
    "df_products = pd.DataFrame(columns = column_names)\n",
    "\n",
    "names,descriptions,categories = [],[],[]\n",
    "for product in product_data:\n",
    "  names.append(product['name'])\n",
    "  descriptions.append(product['description'])\n",
    "\n",
    "  productCategories = []\n",
    "  for cat in product['category']:\n",
    "    productCategories.append(cat['name'])\n",
    "  categories.append(productCategories)\n",
    "\n",
    "df_products = pd.DataFrame(list(zip(names,descriptions,categories)) ,columns = column_names)"
   ]
  },
  {
   "cell_type": "code",
   "execution_count": 7,
   "metadata": {},
   "outputs": [
    {
     "data": {
      "text/html": [
       "<table border=\"1\" class=\"dataframe\">\n",
       "  <thead>\n",
       "    <tr style=\"text-align: right;\">\n",
       "      <th></th>\n",
       "      <th>name</th>\n",
       "      <th>description</th>\n",
       "      <th>categories</th>\n",
       "    </tr>\n",
       "  </thead>\n",
       "  <tbody>\n",
       "    <tr>\n",
       "      <th>0</th>\n",
       "      <td>Duracell - AAA Batteries (4-Pack)</td>\n",
       "      <td>Compatible with select electronic devices; AAA size; DURALOCK Power Preserve technology; 4-pack</td>\n",
       "      <td>[Connected Home &amp; Housewares, Housewares, Household Batteries, Alkaline Batteries]</td>\n",
       "    </tr>\n",
       "    <tr>\n",
       "      <th>1</th>\n",
       "      <td>Duracell - AA 1.5V CopperTop Batteries (4-Pack)</td>\n",
       "      <td>Long-lasting energy; DURALOCK Power Preserve technology; for toys, clocks, radios, games, remotes, PDAs and more</td>\n",
       "      <td>[Connected Home &amp; Housewares, Housewares, Household Batteries, Alkaline Batteries]</td>\n",
       "    </tr>\n",
       "    <tr>\n",
       "      <th>2</th>\n",
       "      <td>Duracell - AA Batteries (8-Pack)</td>\n",
       "      <td>Compatible with select electronic devices; AA size; DURALOCK Power Preserve technology; 8-pack</td>\n",
       "      <td>[Connected Home &amp; Housewares, Housewares, Household Batteries, Alkaline Batteries]</td>\n",
       "    </tr>\n",
       "    <tr>\n",
       "      <th>3</th>\n",
       "      <td>Energizer - MAX Batteries AA (4-Pack)</td>\n",
       "      <td>4-pack AA alkaline batteries; battery tester included</td>\n",
       "      <td>[Connected Home &amp; Housewares, Housewares, Household Batteries, Alkaline Batteries]</td>\n",
       "    </tr>\n",
       "    <tr>\n",
       "      <th>4</th>\n",
       "      <td>Duracell - C Batteries (4-Pack)</td>\n",
       "      <td>Compatible with select electronic devices; C size; DURALOCK Power Preserve technology; 4-pack</td>\n",
       "      <td>[Connected Home &amp; Housewares, Housewares, Household Batteries, Alkaline Batteries]</td>\n",
       "    </tr>\n",
       "  </tbody>\n",
       "</table>"
      ],
      "text/plain": [
       "<IPython.core.display.HTML object>"
      ]
     },
     "execution_count": 7,
     "metadata": {},
     "output_type": "execute_result"
    }
   ],
   "source": [
    "IPython.display.HTML(pd.DataFrame(df_products.head()).to_html())"
   ]
  },
  {
   "cell_type": "code",
   "execution_count": 8,
   "metadata": {},
   "outputs": [
    {
     "data": {
      "text/html": [
       "<div>\n",
       "<style scoped>\n",
       "    .dataframe tbody tr th:only-of-type {\n",
       "        vertical-align: middle;\n",
       "    }\n",
       "\n",
       "    .dataframe tbody tr th {\n",
       "        vertical-align: top;\n",
       "    }\n",
       "\n",
       "    .dataframe thead th {\n",
       "        text-align: right;\n",
       "    }\n",
       "</style>\n",
       "<table border=\"1\" class=\"dataframe\">\n",
       "  <thead>\n",
       "    <tr style=\"text-align: right;\">\n",
       "      <th></th>\n",
       "      <th>name</th>\n",
       "      <th>description</th>\n",
       "      <th>categories</th>\n",
       "    </tr>\n",
       "  </thead>\n",
       "  <tbody>\n",
       "    <tr>\n",
       "      <th>count</th>\n",
       "      <td>51645</td>\n",
       "      <td>51646</td>\n",
       "      <td>51646</td>\n",
       "    </tr>\n",
       "    <tr>\n",
       "      <th>unique</th>\n",
       "      <td>48557</td>\n",
       "      <td>38537</td>\n",
       "      <td>1667</td>\n",
       "    </tr>\n",
       "    <tr>\n",
       "      <th>top</th>\n",
       "      <td>Lenmar - Lithium-Ion Battery - Black</td>\n",
       "      <td>Perfect gift card? Piece of cake. All Best Buy...</td>\n",
       "      <td>[Video Games, Pre-Owned Games]</td>\n",
       "    </tr>\n",
       "    <tr>\n",
       "      <th>freq</th>\n",
       "      <td>31</td>\n",
       "      <td>370</td>\n",
       "      <td>3556</td>\n",
       "    </tr>\n",
       "  </tbody>\n",
       "</table>\n",
       "</div>"
      ],
      "text/plain": [
       "                                        name  \\\n",
       "count                                  51645   \n",
       "unique                                 48557   \n",
       "top     Lenmar - Lithium-Ion Battery - Black   \n",
       "freq                                      31   \n",
       "\n",
       "                                              description  \\\n",
       "count                                               51646   \n",
       "unique                                              38537   \n",
       "top     Perfect gift card? Piece of cake. All Best Buy...   \n",
       "freq                                                  370   \n",
       "\n",
       "                            categories  \n",
       "count                            51646  \n",
       "unique                            1667  \n",
       "top     [Video Games, Pre-Owned Games]  \n",
       "freq                              3556  "
      ]
     },
     "execution_count": 8,
     "metadata": {},
     "output_type": "execute_result"
    }
   ],
   "source": [
    "df_products.describe()"
   ]
  },
  {
   "cell_type": "code",
   "execution_count": 9,
   "metadata": {},
   "outputs": [
    {
     "name": "stdout",
     "output_type": "stream",
     "text": [
      "BASIC INFO\n",
      "-------------------- \n",
      "\n",
      "Percentage of missing values\n",
      "name           0.0\n",
      "description    0.0\n",
      "categories     0.0\n",
      "dtype: float64 \n",
      "\n",
      "The shape of the dataset is: (51645, 3) \n",
      "\n",
      "The columns of the dataset are: ['name', 'description', 'categories'] \n",
      "\n",
      "The type of name column is: object\n",
      "The type of description column is: object\n",
      "The type of categories column is: object\n"
     ]
    }
   ],
   "source": [
    "print(\"BASIC INFO\")\n",
    "print('-'*20,\"\\n\")\n",
    "print(\"Percentage of missing values\")\n",
    "df_products = df_products.dropna().reset_index(drop=True)\n",
    "empties = df_products.isna().sum()\n",
    "empties_sort = empties.sort_values(ascending= False) \n",
    "empties_sort_per = (empties_sort/len(df_products))\n",
    "print(empties_sort_per,\"\\n\")\n",
    "\n",
    "print(\"The shape of the dataset is:\",df_products.shape,\"\\n\")\n",
    "columns = list(df_products.columns)\n",
    "print(\"The columns of the dataset are:\",columns,\"\\n\")\n",
    "for i in range(len(columns)):\n",
    "  print(f\"The type of {columns[i]} column is:\", df_products[str(columns[i])].dtypes)"
   ]
  },
  {
   "cell_type": "code",
   "execution_count": 10,
   "metadata": {},
   "outputs": [],
   "source": [
    "all_categories_lenght = pd.DataFrame(columns=[\"Amount of categories\"])\n",
    "for index, column in df_products.iterrows():\n",
    "  all_categories_lenght.loc[index, \"Amount of categories\"] = len(column[\"categories\"])\n",
    "\n",
    "df_products = pd.concat([df_products, all_categories_lenght], axis=1)"
   ]
  },
  {
   "cell_type": "code",
   "execution_count": 12,
   "metadata": {},
   "outputs": [
    {
     "name": "stdout",
     "output_type": "stream",
     "text": [
      "4    20512\n",
      "3    18845\n",
      "2     5888\n",
      "5     5300\n",
      "1      754\n",
      "6      345\n",
      "7        1\n",
      "Name: Amount of categories, dtype: int64 \n",
      "\n"
     ]
    },
    {
     "data": {
      "image/png": "[encoded data removed]",
      "text/plain": [
       "<Figure size 1152x432 with 1 Axes>"
      ]
     },
     "metadata": {
      "needs_background": "light"
     },
     "output_type": "display_data"
    },
    {
     "name": "stdout",
     "output_type": "stream",
     "text": [
      "The percentage of the value 1 is of 1.46 % \n",
      "\n",
      "The percentage of the value 2 is of 11.4 % \n",
      "\n",
      "The percentage of the value 3 is of 36.49 % \n",
      "\n",
      "The percentage of the value 4 is of 39.72 % \n",
      "\n",
      "The percentage of the value 5 is of 10.26 % \n",
      "\n",
      "The percentage of the value 6 is of 0.67 % \n",
      "\n",
      "The percentage of the value 7 is of 0.0 % \n",
      "\n"
     ]
    }
   ],
   "source": [
    "#Let´s see how many categories are the \"hottest\"\n",
    "a = df_products[\"Amount of categories\"].value_counts()\n",
    "print(a,\"\\n\")\n",
    "plt.figure(figsize=(16,6))\n",
    "sns.countplot(data=df_products, x=\"Amount of categories\", palette='Pastel1')\n",
    "plt.show()\n",
    "\n",
    "total = df_products.shape[0]\n",
    "for i in range(8):\n",
    "  if i != 0:\n",
    "    percentage = a[i]/total\n",
    "    print(f\"The percentage of the value {i} is of\",round(percentage,4)*100,\"%\",\"\\n\")"
   ]
  },
  {
   "cell_type": "markdown",
   "metadata": {},
   "source": [
    "As there is only one product with 7 categories, we are not going that deep into the \"sub-branches\" of that amount of categories, in order to not generate an extra column of aporx. 52000 rows for just one value."
   ]
  },
  {
   "cell_type": "code",
   "execution_count": 13,
   "metadata": {},
   "outputs": [],
   "source": [
    "df_products[\"Amount of categories\"] = df_products[\"Amount of categories\"].astype(int)\n",
    "columns = [\"Main Category\", \"1st Subcategory\", \"2nd Subcategory\", \"3rd Subcategory\",\"4th Subcategory\", \"5th Subcategory\"]\n",
    "categories_columns = pd.DataFrame(columns=columns)\n",
    "\n",
    "for index, columns in df_products.iterrows():\n",
    "  cat_amount = df_products.loc[index, \"Amount of categories\"]\n",
    "  if cat_amount > 6:\n",
    "      cat_amount = 6\n",
    "  for i in range(cat_amount):\n",
    "    if i == 0:\n",
    "      categories_columns.loc[index, \"Main Category\"] = df_products.loc[index, \"categories\"][0]\n",
    "    elif i == 1:\n",
    "      categories_columns.loc[index, \"1st Subcategory\"] = df_products.loc[index, \"categories\"][1] \n",
    "    elif i == 2:\n",
    "      categories_columns.loc[index, \"2nd Subcategory\"] = df_products.loc[index, \"categories\"][2]   \n",
    "    elif i == 3:\n",
    "      categories_columns.loc[index, \"3rd Subcategory\"] = df_products.loc[index, \"categories\"][3]   \n",
    "    elif i == 4:\n",
    "      categories_columns.loc[index, \"4th Subcategory\"] = df_products.loc[index, \"categories\"][4]     \n",
    "    elif i == 5:\n",
    "      categories_columns.loc[index, \"5th Subcategory\"] = df_products.loc[index, \"categories\"][5]     \n",
    "\n",
    "df_products = pd.concat([df_products, categories_columns], axis=1)\n"
   ]
  },
  {
   "cell_type": "code",
   "execution_count": 15,
   "metadata": {},
   "outputs": [
    {
     "data": {
      "text/html": [
       "<table border=\"1\" class=\"dataframe\">\n",
       "  <thead>\n",
       "    <tr style=\"text-align: right;\">\n",
       "      <th></th>\n",
       "      <th>name</th>\n",
       "      <th>description</th>\n",
       "      <th>categories</th>\n",
       "      <th>Amount of categories</th>\n",
       "      <th>Main Category</th>\n",
       "      <th>1st Subcategory</th>\n",
       "      <th>2nd Subcategory</th>\n",
       "      <th>3rd Subcategory</th>\n",
       "      <th>4th Subcategory</th>\n",
       "      <th>5th Subcategory</th>\n",
       "    </tr>\n",
       "  </thead>\n",
       "  <tbody>\n",
       "    <tr>\n",
       "      <th>0</th>\n",
       "      <td>Duracell - AAA Batteries (4-Pack)</td>\n",
       "      <td>Compatible with select electronic devices; AAA size; DURALOCK Power Preserve technology; 4-pack</td>\n",
       "      <td>[Connected Home &amp; Housewares, Housewares, Household Batteries, Alkaline Batteries]</td>\n",
       "      <td>4</td>\n",
       "      <td>Connected Home &amp; Housewares</td>\n",
       "      <td>Housewares</td>\n",
       "      <td>Household Batteries</td>\n",
       "      <td>Alkaline Batteries</td>\n",
       "      <td>NaN</td>\n",
       "      <td>NaN</td>\n",
       "    </tr>\n",
       "    <tr>\n",
       "      <th>1</th>\n",
       "      <td>Duracell - AA 1.5V CopperTop Batteries (4-Pack)</td>\n",
       "      <td>Long-lasting energy; DURALOCK Power Preserve technology; for toys, clocks, radios, games, remotes, PDAs and more</td>\n",
       "      <td>[Connected Home &amp; Housewares, Housewares, Household Batteries, Alkaline Batteries]</td>\n",
       "      <td>4</td>\n",
       "      <td>Connected Home &amp; Housewares</td>\n",
       "      <td>Housewares</td>\n",
       "      <td>Household Batteries</td>\n",
       "      <td>Alkaline Batteries</td>\n",
       "      <td>NaN</td>\n",
       "      <td>NaN</td>\n",
       "    </tr>\n",
       "    <tr>\n",
       "      <th>2</th>\n",
       "      <td>Duracell - AA Batteries (8-Pack)</td>\n",
       "      <td>Compatible with select electronic devices; AA size; DURALOCK Power Preserve technology; 8-pack</td>\n",
       "      <td>[Connected Home &amp; Housewares, Housewares, Household Batteries, Alkaline Batteries]</td>\n",
       "      <td>4</td>\n",
       "      <td>Connected Home &amp; Housewares</td>\n",
       "      <td>Housewares</td>\n",
       "      <td>Household Batteries</td>\n",
       "      <td>Alkaline Batteries</td>\n",
       "      <td>NaN</td>\n",
       "      <td>NaN</td>\n",
       "    </tr>\n",
       "    <tr>\n",
       "      <th>3</th>\n",
       "      <td>Energizer - MAX Batteries AA (4-Pack)</td>\n",
       "      <td>4-pack AA alkaline batteries; battery tester included</td>\n",
       "      <td>[Connected Home &amp; Housewares, Housewares, Household Batteries, Alkaline Batteries]</td>\n",
       "      <td>4</td>\n",
       "      <td>Connected Home &amp; Housewares</td>\n",
       "      <td>Housewares</td>\n",
       "      <td>Household Batteries</td>\n",
       "      <td>Alkaline Batteries</td>\n",
       "      <td>NaN</td>\n",
       "      <td>NaN</td>\n",
       "    </tr>\n",
       "    <tr>\n",
       "      <th>4</th>\n",
       "      <td>Duracell - C Batteries (4-Pack)</td>\n",
       "      <td>Compatible with select electronic devices; C size; DURALOCK Power Preserve technology; 4-pack</td>\n",
       "      <td>[Connected Home &amp; Housewares, Housewares, Household Batteries, Alkaline Batteries]</td>\n",
       "      <td>4</td>\n",
       "      <td>Connected Home &amp; Housewares</td>\n",
       "      <td>Housewares</td>\n",
       "      <td>Household Batteries</td>\n",
       "      <td>Alkaline Batteries</td>\n",
       "      <td>NaN</td>\n",
       "      <td>NaN</td>\n",
       "    </tr>\n",
       "    <tr>\n",
       "      <th>5</th>\n",
       "      <td>Duracell - D Batteries (4-Pack)</td>\n",
       "      <td>Compatible with select electronic devices; D size; DURALOCK Power Preserve technology; 4-pack</td>\n",
       "      <td>[Connected Home &amp; Housewares, Housewares, Household Batteries, Alkaline Batteries]</td>\n",
       "      <td>4</td>\n",
       "      <td>Connected Home &amp; Housewares</td>\n",
       "      <td>Housewares</td>\n",
       "      <td>Household Batteries</td>\n",
       "      <td>Alkaline Batteries</td>\n",
       "      <td>NaN</td>\n",
       "      <td>NaN</td>\n",
       "    </tr>\n",
       "    <tr>\n",
       "      <th>6</th>\n",
       "      <td>Duracell - 9V Batteries (2-Pack)</td>\n",
       "      <td>Compatible with select electronic devices; alkaline chemistry; 9V size; DURALOCK Power Preserve technology; 2-pack</td>\n",
       "      <td>[Connected Home &amp; Housewares, Housewares, Household Batteries, Alkaline Batteries]</td>\n",
       "      <td>4</td>\n",
       "      <td>Connected Home &amp; Housewares</td>\n",
       "      <td>Housewares</td>\n",
       "      <td>Household Batteries</td>\n",
       "      <td>Alkaline Batteries</td>\n",
       "      <td>NaN</td>\n",
       "      <td>NaN</td>\n",
       "    </tr>\n",
       "    <tr>\n",
       "      <th>7</th>\n",
       "      <td>Directed Electronics - Viper Audio Glass Break Sensor</td>\n",
       "      <td>From our expanded online assortment; compatible with Directed Electronics alarm systems; microphone and microprocessor detect and analyze intrusions; detects quiet glass breaks</td>\n",
       "      <td>[Carfi Instore Only]</td>\n",
       "      <td>1</td>\n",
       "      <td>Carfi Instore Only</td>\n",
       "      <td>NaN</td>\n",
       "      <td>NaN</td>\n",
       "      <td>NaN</td>\n",
       "      <td>NaN</td>\n",
       "      <td>NaN</td>\n",
       "    </tr>\n",
       "    <tr>\n",
       "      <th>8</th>\n",
       "      <td>Energizer - N Cell E90 Batteries (2-Pack)</td>\n",
       "      <td>Alkaline batteries; 1.5V</td>\n",
       "      <td>[Connected Home &amp; Housewares, Housewares, Household Batteries, Specialty Batteries]</td>\n",
       "      <td>4</td>\n",
       "      <td>Connected Home &amp; Housewares</td>\n",
       "      <td>Housewares</td>\n",
       "      <td>Household Batteries</td>\n",
       "      <td>Specialty Batteries</td>\n",
       "      <td>NaN</td>\n",
       "      <td>NaN</td>\n",
       "    </tr>\n",
       "    <tr>\n",
       "      <th>9</th>\n",
       "      <td>Metra - Radio Installation Dash Kit for Most 1989-2000 Ford, Lincoln &amp; Mercury Vehicles - Black</td>\n",
       "      <td>From our expanded online assortment; compatible with most 1989-2000 Ford, Lincoln and Mercury vehicles; snap-in TurboKit offers fast installation; spacer/trim ring; rear support bracket</td>\n",
       "      <td>[Car Electronics &amp; GPS, Car Installation Parts &amp; Accessories, Car Audio Installation Parts, Deck Installation Parts, Dash Installation Kits]</td>\n",
       "      <td>5</td>\n",
       "      <td>Car Electronics &amp; GPS</td>\n",
       "      <td>Car Installation Parts &amp; Accessories</td>\n",
       "      <td>Car Audio Installation Parts</td>\n",
       "      <td>Deck Installation Parts</td>\n",
       "      <td>Dash Installation Kits</td>\n",
       "      <td>NaN</td>\n",
       "    </tr>\n",
       "  </tbody>\n",
       "</table>"
      ],
      "text/plain": [
       "<IPython.core.display.HTML object>"
      ]
     },
     "execution_count": 15,
     "metadata": {},
     "output_type": "execute_result"
    }
   ],
   "source": [
    "IPython.display.HTML(pd.DataFrame(df_products.head(10)).to_html())"
   ]
  },
  {
   "cell_type": "markdown",
   "metadata": {},
   "source": [
    "Duplicates Elimination"
   ]
  },
  {
   "cell_type": "code",
   "execution_count": 16,
   "metadata": {},
   "outputs": [],
   "source": [
    "#1- Eliminate real duplicates to avoid overfitting\n",
    "df_products.drop_duplicates(subset=[\"name\",\"description\",\"Main Category\", \"1st Subcategory\", \"2nd Subcategory\", \"3rd Subcategory\", \"4th Subcategory\", \"5th Subcategory\"], keep=\"first\", inplace=True)\n",
    "\n",
    "#2- Eliminate the product duplicate in \"name\" which has the less amount amount of subctegories.\n",
    "df_products[df_products[\"name\"].duplicated()].sort_values(by=['Amount of categories'],ascending=False)\n",
    "df_products = df_products[~df_products[\"name\"].duplicated()].sort_values(by=['Amount of categories'],ascending=False)\n",
    "df_products = df_products.sort_index()"
   ]
  },
  {
   "cell_type": "code",
   "execution_count": 17,
   "metadata": {},
   "outputs": [],
   "source": [
    "df_products.to_csv(\"dataframe_preothers.csv\", index=False)"
   ]
  },
  {
   "cell_type": "markdown",
   "metadata": {},
   "source": [
    "We have to be aware of the problem of having unique products for the next part of the project at the time of splitting our dataset into train and test. We would be leaving labels with just the unique class of 0, and we will not be able to train the model. One form of preventing this is to check that I have at least 2 samples of each label, for each subcategory and then stratifying at the time of splitting my dataset... In this particular case I made a deeper elimination, in correlation with the amount labels for each subcategory, in order to eliminate those products which are very few times."
   ]
  },
  {
   "cell_type": "code",
   "execution_count": 18,
   "metadata": {},
   "outputs": [
    {
     "name": "stdout",
     "output_type": "stream",
     "text": [
      "Outdoor Cushions & Pillows    8\n",
      "Color Inkjet Printers         5\n",
      "Soft Cases                    5\n",
      "Outdoor Bistro Sets           5\n",
      "Outdoor Storage Cabinets      4\n",
      "Name: 5th Subcategory, dtype: int64 \n",
      "\n",
      "Maintenance Software      6\n",
      "Large                     6\n",
      "Coffee Beans              6\n",
      "Distortion & Overdrive    6\n",
      "Patio Chairs & Tables     6\n",
      "Name: 4th Subcategory, dtype: int64 \n",
      "\n",
      "Snow Cone Machines        17\n",
      "CD Players & Recorders    16\n",
      "Outdoor GPS               16\n",
      "Softboxes                 16\n",
      "Can Openers               16\n",
      "Name: 3rd Subcategory, dtype: int64 \n",
      "\n",
      "Evaporative Coolers       12\n",
      "Washer Accessories        12\n",
      "Radios                    11\n",
      "3D Glasses                11\n",
      "Camcorder Bags & Cases    11\n",
      "Name: 2nd Subcategory, dtype: int64 \n",
      "\n",
      "Smart Sports Equipment        15\n",
      "Movies & TV Shows             15\n",
      "App-Enabled Toys              14\n",
      "Movie & Music Cards           12\n",
      "Pre-Owned & Trade-In Games    11\n",
      "Name: 1st Subcategory, dtype: int64 \n",
      "\n",
      "XBox_Buy2Get1_20130616     4\n",
      "Furniture                  4\n",
      "Beverage & Wine Coolers    3\n",
      "Geek Squad Services        3\n",
      "Ink for Hewlett-Packard    3\n",
      "Name: Main Category, dtype: int64 \n",
      "\n"
     ]
    }
   ],
   "source": [
    "counts = df_products[\"5th Subcategory\"].value_counts()\n",
    "df_products = df_products[~df_products[\"5th Subcategory\"].isin(counts[counts <= 2].index)]\n",
    "print(df_products[\"5th Subcategory\"].value_counts().tail(), \"\\n\")\n",
    "\n",
    "counts = df_products[\"4th Subcategory\"].value_counts()\n",
    "df_products = df_products[~df_products[\"4th Subcategory\"].isin(counts[counts <= 5].index)]\n",
    "print(df_products[\"4th Subcategory\"].value_counts().tail(), \"\\n\")\n",
    "\n",
    "counts = df_products[\"3rd Subcategory\"].value_counts()\n",
    "df_products = df_products[~df_products[\"3rd Subcategory\"].isin(counts[counts <= 15].index)]\n",
    "print(df_products[\"3rd Subcategory\"].value_counts().tail(), \"\\n\")\n",
    "\n",
    "counts = df_products[\"2nd Subcategory\"].value_counts()\n",
    "df_products = df_products[~df_products[\"2nd Subcategory\"].isin(counts[counts <= 10].index)]\n",
    "print(df_products[\"2nd Subcategory\"].value_counts().tail(), \"\\n\")\n",
    "\n",
    "counts = df_products[\"1st Subcategory\"].value_counts()\n",
    "df_products = df_products[~df_products[\"1st Subcategory\"].isin(counts[counts <= 10].index)]\n",
    "print(df_products[\"1st Subcategory\"].value_counts().tail(), \"\\n\")\n",
    "\n",
    "counts = df_products[\"Main Category\"].value_counts()\n",
    "df_products = df_products[~df_products[\"Main Category\"].isin(counts[counts <= 2].index)]\n",
    "print(df_products[\"Main Category\"].value_counts().tail(), \"\\n\")"
   ]
  },
  {
   "cell_type": "code",
   "execution_count": 19,
   "metadata": {},
   "outputs": [
    {
     "data": {
      "text/plain": [
       "(45232, 10)"
      ]
     },
     "execution_count": 19,
     "metadata": {},
     "output_type": "execute_result"
    }
   ],
   "source": [
    "df_products.shape"
   ]
  },
  {
   "cell_type": "code",
   "execution_count": 20,
   "metadata": {},
   "outputs": [
    {
     "name": "stdout",
     "output_type": "stream",
     "text": [
      "MAIN CATEGORY\n",
      "--------------------\n",
      "count          45232\n",
      "unique            33\n",
      "top       Appliances\n",
      "freq            7970\n",
      "Name: Main Category, dtype: object \n",
      "\n",
      "1ST SUBCATEGORY\n",
      "--------------------\n",
      "count                      44568\n",
      "unique                       121\n",
      "top       Cell Phone Accessories\n",
      "freq                        5691\n",
      "Name: 1st Subcategory, dtype: object \n",
      "\n",
      "2ND SUBCATEGORY\n",
      "--------------------\n",
      "count                  38834\n",
      "unique                   342\n",
      "top       iPhone Accessories\n",
      "freq                    1993\n",
      "Name: 2nd Subcategory, dtype: object \n",
      "\n",
      "3RD SUBCATEGORY\n",
      "--------------------\n",
      "count                    21988\n",
      "unique                     282\n",
      "top       iPhone Cases & Clips\n",
      "freq                      1845\n",
      "Name: 3rd Subcategory, dtype: object \n",
      "\n",
      "4TH SUBCATEGORY\n",
      "--------------------\n",
      "count                       5102\n",
      "unique                       117\n",
      "top       Dash Installation Kits\n",
      "freq                         681\n",
      "Name: 4th Subcategory, dtype: object \n",
      "\n",
      "5TH SUBCATEGORY\n",
      "--------------------\n",
      "count                            321\n",
      "unique                            15\n",
      "top       All-In-One Inkjet Printers\n",
      "freq                              51\n",
      "Name: 5th Subcategory, dtype: object \n",
      "\n"
     ]
    }
   ],
   "source": [
    "def get_description(column):\n",
    "  print(column.upper())\n",
    "  print('-'*20)\n",
    "  print(df_products[str(column)].describe(),\"\\n\")\n",
    "\n",
    "get_description(\"Main Category\")\n",
    "get_description(\"1st Subcategory\")\n",
    "get_description(\"2nd Subcategory\")\n",
    "get_description(\"3rd Subcategory\")\n",
    "get_description(\"4th Subcategory\")\n",
    "get_description(\"5th Subcategory\")"
   ]
  },
  {
   "cell_type": "markdown",
   "metadata": {},
   "source": [
    "I should do at least a quick check of the labeled products, if the categories are respected as they were assigned (its hierarchy). I want to know, how many categories of the supossed Main categories are only in that column, and this same logic and with all the other columns."
   ]
  },
  {
   "cell_type": "code",
   "execution_count": 21,
   "metadata": {},
   "outputs": [],
   "source": [
    "def check_nans(setset):\n",
    "  a = list(setset)\n",
    "  try:\n",
    "    newlist = [x for x in a if np.isnan(x) == False]\n",
    "  except:\n",
    "    pass\n",
    "  try:\n",
    "    newlist = [x for x in a if pd.isnull(x) == False]\n",
    "  except:\n",
    "    pass\n",
    "  try:\n",
    "    newlist = [x for x in a if math.isnan(x) == False]\n",
    "  except:\n",
    "    pass\n",
    "\n",
    "  return newlist"
   ]
  },
  {
   "cell_type": "code",
   "execution_count": 22,
   "metadata": {},
   "outputs": [
    {
     "name": "stdout",
     "output_type": "stream",
     "text": [
      "The intersection between Main and 1st: [] 0\n",
      "The intersection between Main and 2nd: ['Voice Recognition Software'] 1\n",
      "The intersection between Main and 3rd: [] 0\n",
      "The intersection between Main and 4th: [] 0\n",
      "The intersection between Main and 5th: [] 0\n",
      "The intersection between 1st and 2nd: ['TV & Home Theater Accessories', 'Keyboards', 'Apple Watch'] 3\n",
      "The intersection between 1st and 3rd: ['Bluetooth & Wireless Speakers'] 1\n",
      "The intersection between 1st and 4th: [] 0\n",
      "The intersection between 1st and 5th: [] 0\n",
      "The intersection between 2nd and 3rd: ['Radios', 'Microphones'] 2\n",
      "The intersection between 2nd and 4th: ['Cables & Connectors'] 1\n",
      "The intersection between 2nd and 5th: [] 0\n",
      "The intersection between 3rd and 4th: ['Coffee Makers'] 1\n",
      "The intersection between 3rd and 5th: [] 0\n",
      "The intersection between 4th and 5th [] 0\n"
     ]
    }
   ],
   "source": [
    "#3- Eliminate the \"error data\" -> By error Data I mean the products which has mixed up its categories\n",
    "main_category = df_products[\"Main Category\"].tolist()\n",
    "a = set(main_category)\n",
    "subcategory1 = df_products[\"1st Subcategory\"].tolist()\n",
    "b = set(subcategory1)\n",
    "subcategory2 = df_products[\"2nd Subcategory\"].tolist()\n",
    "c = set(subcategory2)\n",
    "subcategory3 = df_products[\"3rd Subcategory\"].tolist()\n",
    "d = set(subcategory3)\n",
    "subcategory4 = df_products[\"4th Subcategory\"].tolist()\n",
    "e = set(subcategory4)\n",
    "subcategory5 = df_products[\"5th Subcategory\"].tolist()\n",
    "f = set(subcategory5)\n",
    "\n",
    "#Main and the rest\n",
    "g = a & b\n",
    "g = check_nans(g)\n",
    "print(\"The intersection between Main and 1st:\",g, len(g))\n",
    "h = a & c\n",
    "h = check_nans(h)\n",
    "print(\"The intersection between Main and 2nd:\",h, len(h))\n",
    "i = a & d\n",
    "i = check_nans(i)\n",
    "print(\"The intersection between Main and 3rd:\",i, len(i))\n",
    "j = a & e\n",
    "j = check_nans(j)\n",
    "print(\"The intersection between Main and 4th:\",j, len(j))\n",
    "k = a & f\n",
    "k = check_nans(k)\n",
    "print(\"The intersection between Main and 5th:\",k, len(k))\n",
    "\n",
    "#1st Sub and the rest\n",
    "gg = b & c\n",
    "gg = check_nans(gg)\n",
    "print(\"The intersection between 1st and 2nd:\",gg, len(gg))\n",
    "hh = b & d\n",
    "hh = check_nans(hh)\n",
    "print(\"The intersection between 1st and 3rd:\",hh, len(hh))\n",
    "ii = b & e\n",
    "ii = check_nans(ii)\n",
    "print(\"The intersection between 1st and 4th:\",ii, len(ii))\n",
    "jj = b & f\n",
    "jj = check_nans(jj)\n",
    "print(\"The intersection between 1st and 5th:\",jj, len(jj))\n",
    "\n",
    "#2nd Sub and the rest\n",
    "jjj = c & d\n",
    "jjj = check_nans(jjj)\n",
    "print(\"The intersection between 2nd and 3rd:\",jjj, len(jjj))\n",
    "hhh = c & e\n",
    "hhh = check_nans(hhh)\n",
    "print(\"The intersection between 2nd and 4th:\",hhh, len(hhh))\n",
    "iii = c & f\n",
    "iii = check_nans(iii)\n",
    "print(\"The intersection between 2nd and 5th:\",iii, len(iii))\n",
    "\n",
    "#3rd Sub and the rest\n",
    "x = d & e\n",
    "x = check_nans(x)\n",
    "print(\"The intersection between 3rd and 4th:\",x, len(x))\n",
    "y = d & f\n",
    "y = check_nans(y)\n",
    "print(\"The intersection between 3rd and 5th:\",y, len(y))\n",
    "\n",
    "#4th Sub and the rest\n",
    "z = e & f\n",
    "z = check_nans(z)\n",
    "print(\"The intersection between 4th and 5th\",z, len(z))"
   ]
  },
  {
   "cell_type": "markdown",
   "metadata": {},
   "source": [
    "As we can see the instersection between each columns, is very small. There are very few products which do not respect the stablished hierarchy. Also, not because \"Voice Recognition Software\" (just to put an example) appears on both as a Main category and a 2nd Subcategory it means that both product are not respecting the stablished hierarchy but only of them (each situation has its own peculiarities...)."
   ]
  },
  {
   "cell_type": "code",
   "execution_count": null,
   "metadata": {},
   "outputs": [],
   "source": [
    "df_products.to_csv(\"dataframe_postothers.csv\", index=False)"
   ]
  },
  {
   "cell_type": "markdown",
   "metadata": {},
   "source": [
    "## Feature Engineer\n",
    "\n",
    "Main goals:\n",
    "  \n",
    "  - Name and Description columns\n",
    "  \n",
    "    - Text Normalization\n",
    "\n",
    "  - Categories column (labels)\n",
    "\n",
    "    - Encode categorical features.\n"
   ]
  },
  {
   "cell_type": "markdown",
   "metadata": {},
   "source": [
    "Let´s begin by tranforming our \"name\" and \"description\" columns into a vector, so we can pass them to the model. "
   ]
  },
  {
   "cell_type": "code",
   "execution_count": 6,
   "metadata": {},
   "outputs": [],
   "source": [
    "df_products = pd.read_csv(\"/Users/carolinapeinado/Desktop/Santi/FinalSprintProject/Files/Dataframes/dataframe_postothers.csv\")"
   ]
  },
  {
   "cell_type": "code",
   "execution_count": 7,
   "metadata": {},
   "outputs": [],
   "source": [
    "df_products[\"information\"] = df_products[[\"name\",\"description\"]].apply(lambda x: ','.join(x.dropna().astype(str)),axis=1)\n",
    "df_products.drop([\"name\", \"description\"], axis=1, inplace=True)"
   ]
  },
  {
   "cell_type": "code",
   "execution_count": 8,
   "metadata": {},
   "outputs": [
    {
     "data": {
      "text/html": [
       "<table border=\"1\" class=\"dataframe\">\n",
       "  <thead>\n",
       "    <tr style=\"text-align: right;\">\n",
       "      <th></th>\n",
       "      <th>categories</th>\n",
       "      <th>Amount of categories</th>\n",
       "      <th>Main Category</th>\n",
       "      <th>1st Subcategory</th>\n",
       "      <th>2nd Subcategory</th>\n",
       "      <th>3rd Subcategory</th>\n",
       "      <th>4th Subcategory</th>\n",
       "      <th>5th Subcategory</th>\n",
       "      <th>information</th>\n",
       "    </tr>\n",
       "  </thead>\n",
       "  <tbody>\n",
       "    <tr>\n",
       "      <th>0</th>\n",
       "      <td>['Connected Home &amp; Housewares', 'Housewares', 'Household Batteries', 'Alkaline Batteries']</td>\n",
       "      <td>4</td>\n",
       "      <td>Connected Home &amp; Housewares</td>\n",
       "      <td>Housewares</td>\n",
       "      <td>Household Batteries</td>\n",
       "      <td>Alkaline Batteries</td>\n",
       "      <td>NaN</td>\n",
       "      <td>NaN</td>\n",
       "      <td>Duracell - AAA Batteries (4-Pack),Compatible with select electronic devices; AAA size; DURALOCK Power Preserve technology; 4-pack</td>\n",
       "    </tr>\n",
       "    <tr>\n",
       "      <th>1</th>\n",
       "      <td>['Connected Home &amp; Housewares', 'Housewares', 'Household Batteries', 'Alkaline Batteries']</td>\n",
       "      <td>4</td>\n",
       "      <td>Connected Home &amp; Housewares</td>\n",
       "      <td>Housewares</td>\n",
       "      <td>Household Batteries</td>\n",
       "      <td>Alkaline Batteries</td>\n",
       "      <td>NaN</td>\n",
       "      <td>NaN</td>\n",
       "      <td>Duracell - AA 1.5V CopperTop Batteries (4-Pack),Long-lasting energy; DURALOCK Power Preserve technology; for toys, clocks, radios, games, remotes, PDAs and more</td>\n",
       "    </tr>\n",
       "    <tr>\n",
       "      <th>2</th>\n",
       "      <td>['Connected Home &amp; Housewares', 'Housewares', 'Household Batteries', 'Alkaline Batteries']</td>\n",
       "      <td>4</td>\n",
       "      <td>Connected Home &amp; Housewares</td>\n",
       "      <td>Housewares</td>\n",
       "      <td>Household Batteries</td>\n",
       "      <td>Alkaline Batteries</td>\n",
       "      <td>NaN</td>\n",
       "      <td>NaN</td>\n",
       "      <td>Duracell - AA Batteries (8-Pack),Compatible with select electronic devices; AA size; DURALOCK Power Preserve technology; 8-pack</td>\n",
       "    </tr>\n",
       "    <tr>\n",
       "      <th>3</th>\n",
       "      <td>['Connected Home &amp; Housewares', 'Housewares', 'Household Batteries', 'Alkaline Batteries']</td>\n",
       "      <td>4</td>\n",
       "      <td>Connected Home &amp; Housewares</td>\n",
       "      <td>Housewares</td>\n",
       "      <td>Household Batteries</td>\n",
       "      <td>Alkaline Batteries</td>\n",
       "      <td>NaN</td>\n",
       "      <td>NaN</td>\n",
       "      <td>Energizer - MAX Batteries AA (4-Pack),4-pack AA alkaline batteries; battery tester included</td>\n",
       "    </tr>\n",
       "    <tr>\n",
       "      <th>4</th>\n",
       "      <td>['Connected Home &amp; Housewares', 'Housewares', 'Household Batteries', 'Alkaline Batteries']</td>\n",
       "      <td>4</td>\n",
       "      <td>Connected Home &amp; Housewares</td>\n",
       "      <td>Housewares</td>\n",
       "      <td>Household Batteries</td>\n",
       "      <td>Alkaline Batteries</td>\n",
       "      <td>NaN</td>\n",
       "      <td>NaN</td>\n",
       "      <td>Duracell - C Batteries (4-Pack),Compatible with select electronic devices; C size; DURALOCK Power Preserve technology; 4-pack</td>\n",
       "    </tr>\n",
       "  </tbody>\n",
       "</table>"
      ],
      "text/plain": [
       "<IPython.core.display.HTML object>"
      ]
     },
     "execution_count": 8,
     "metadata": {},
     "output_type": "execute_result"
    }
   ],
   "source": [
    "IPython.display.HTML(pd.DataFrame(df_products.head()).to_html())"
   ]
  },
  {
   "cell_type": "code",
   "execution_count": 9,
   "metadata": {},
   "outputs": [],
   "source": [
    "import text_normalizer"
   ]
  },
  {
   "cell_type": "code",
   "execution_count": 11,
   "metadata": {},
   "outputs": [],
   "source": [
    "for index,column in df_products.iterrows():\n",
    "  df_products.loc[index,\"information\"] = text_normalizer.clean_text(\n",
    "    text=df_products.loc[index,\"information\"],\n",
    "    puncts=True,\n",
    "    stopwords=True,\n",
    "    urls=True,\n",
    "    emails=True,\n",
    "    numbers=True,\n",
    "    emojis=True,\n",
    "    special_char=True,\n",
    "    phone_num=True,\n",
    "    non_ascii=True,\n",
    "    multiple_whitespaces=True,\n",
    "    contractions=True,\n",
    "    currency_symbols=True,\n",
    "    custom_pattern=None,\n",
    "  )\n",
    "  df_products.loc[index,\"information\"] = text_normalizer.lemmatize_text(df_products.loc[index,\"information\"])\n"
   ]
  },
  {
   "cell_type": "code",
   "execution_count": 12,
   "metadata": {},
   "outputs": [
    {
     "data": {
      "text/html": [
       "<table border=\"1\" class=\"dataframe\">\n",
       "  <thead>\n",
       "    <tr style=\"text-align: right;\">\n",
       "      <th></th>\n",
       "      <th>categories</th>\n",
       "      <th>Amount of categories</th>\n",
       "      <th>Main Category</th>\n",
       "      <th>1st Subcategory</th>\n",
       "      <th>2nd Subcategory</th>\n",
       "      <th>3rd Subcategory</th>\n",
       "      <th>4th Subcategory</th>\n",
       "      <th>5th Subcategory</th>\n",
       "      <th>information</th>\n",
       "    </tr>\n",
       "  </thead>\n",
       "  <tbody>\n",
       "    <tr>\n",
       "      <th>0</th>\n",
       "      <td>['Connected Home &amp; Housewares', 'Housewares', 'Household Batteries', 'Alkaline Batteries']</td>\n",
       "      <td>4</td>\n",
       "      <td>Connected Home &amp; Housewares</td>\n",
       "      <td>Housewares</td>\n",
       "      <td>Household Batteries</td>\n",
       "      <td>Alkaline Batteries</td>\n",
       "      <td>NaN</td>\n",
       "      <td>NaN</td>\n",
       "      <td>duracell aaa battery packcompatible select electronic device aaa size duralock power preserve technology pack</td>\n",
       "    </tr>\n",
       "    <tr>\n",
       "      <th>1</th>\n",
       "      <td>['Connected Home &amp; Housewares', 'Housewares', 'Household Batteries', 'Alkaline Batteries']</td>\n",
       "      <td>4</td>\n",
       "      <td>Connected Home &amp; Housewares</td>\n",
       "      <td>Housewares</td>\n",
       "      <td>Household Batteries</td>\n",
       "      <td>Alkaline Batteries</td>\n",
       "      <td>NaN</td>\n",
       "      <td>NaN</td>\n",
       "      <td>duracell aa v coppertop battery packlonglaste energy duralock power preserve technology toy clock radio game remote pda</td>\n",
       "    </tr>\n",
       "    <tr>\n",
       "      <th>2</th>\n",
       "      <td>['Connected Home &amp; Housewares', 'Housewares', 'Household Batteries', 'Alkaline Batteries']</td>\n",
       "      <td>4</td>\n",
       "      <td>Connected Home &amp; Housewares</td>\n",
       "      <td>Housewares</td>\n",
       "      <td>Household Batteries</td>\n",
       "      <td>Alkaline Batteries</td>\n",
       "      <td>NaN</td>\n",
       "      <td>NaN</td>\n",
       "      <td>duracell aa battery packcompatible select electronic device aa size duralock power preserve technology pack</td>\n",
       "    </tr>\n",
       "    <tr>\n",
       "      <th>3</th>\n",
       "      <td>['Connected Home &amp; Housewares', 'Housewares', 'Household Batteries', 'Alkaline Batteries']</td>\n",
       "      <td>4</td>\n",
       "      <td>Connected Home &amp; Housewares</td>\n",
       "      <td>Housewares</td>\n",
       "      <td>Household Batteries</td>\n",
       "      <td>Alkaline Batteries</td>\n",
       "      <td>NaN</td>\n",
       "      <td>NaN</td>\n",
       "      <td>energizer max battery aa packpack aa alkaline battery battery tester include</td>\n",
       "    </tr>\n",
       "    <tr>\n",
       "      <th>4</th>\n",
       "      <td>['Connected Home &amp; Housewares', 'Housewares', 'Household Batteries', 'Alkaline Batteries']</td>\n",
       "      <td>4</td>\n",
       "      <td>Connected Home &amp; Housewares</td>\n",
       "      <td>Housewares</td>\n",
       "      <td>Household Batteries</td>\n",
       "      <td>Alkaline Batteries</td>\n",
       "      <td>NaN</td>\n",
       "      <td>NaN</td>\n",
       "      <td>duracell c battery packcompatible select electronic device c size duralock power preserve technology pack</td>\n",
       "    </tr>\n",
       "  </tbody>\n",
       "</table>"
      ],
      "text/plain": [
       "<IPython.core.display.HTML object>"
      ]
     },
     "execution_count": 12,
     "metadata": {},
     "output_type": "execute_result"
    }
   ],
   "source": [
    "IPython.display.HTML(pd.DataFrame(df_products.head()).to_html())"
   ]
  },
  {
   "cell_type": "markdown",
   "metadata": {},
   "source": [
    "Now let´s encode our categorial features. I am going to generate a different dataframe for each level of category for further analysis."
   ]
  },
  {
   "cell_type": "code",
   "execution_count": 13,
   "metadata": {},
   "outputs": [],
   "source": [
    "df_products_main = df_products.copy()\n",
    "df_products_1 = df_products.copy()\n",
    "df_products_2 = df_products.copy()\n",
    "df_products_3 = df_products.copy()\n",
    "df_products_4 = df_products.copy()\n",
    "df_products_all = df_products.copy()"
   ]
  },
  {
   "cell_type": "code",
   "execution_count": 14,
   "metadata": {},
   "outputs": [],
   "source": [
    "from sklearn.preprocessing import OneHotEncoder\n",
    "import warnings\n",
    "warnings. simplefilter(\"ignore\")"
   ]
  },
  {
   "cell_type": "code",
   "execution_count": 15,
   "metadata": {},
   "outputs": [],
   "source": [
    "def encoding(df, col_list):\n",
    "  encoder = OneHotEncoder().fit(df[col_list])\n",
    "  df = pd.concat(\n",
    "      [\n",
    "          df,\n",
    "          pd.DataFrame(\n",
    "              encoder.transform(df[col_list]).toarray(),\n",
    "              index=df.index,\n",
    "              columns=encoder.get_feature_names(col_list)\n",
    "          )\n",
    "      ],\n",
    "      axis=1\n",
    "  )\n",
    "\n",
    "  df.drop([\"Amount of categories\",\"categories\",\"Main Category\", \"1st Subcategory\", \"2nd Subcategory\", \"3rd Subcategory\", \"4th Subcategory\", \"5th Subcategory\"], axis=1, inplace=True)\n",
    "\n",
    "  return df"
   ]
  },
  {
   "cell_type": "code",
   "execution_count": 16,
   "metadata": {},
   "outputs": [],
   "source": [
    "#Main categories\n",
    "col_list = [\"Main Category\"]\n",
    "df_products_main = encoding(df_products_main, col_list)\n",
    "#1st Subcategories\n",
    "col_list = [\"Main Category\", \"1st Subcategory\"]\n",
    "df_products_1 = encoding(df_products_1, col_list)\n",
    "#2nd Subcategories\n",
    "col_list = [\"Main Category\", \"1st Subcategory\", \"2nd Subcategory\"]\n",
    "df_products_2 = encoding(df_products_2, col_list)\n",
    "#3rd Subcategories\n",
    "col_list = [\"Main Category\", \"1st Subcategory\", \"2nd Subcategory\", \"3rd Subcategory\"]\n",
    "df_products_3 = encoding(df_products_3, col_list)\n",
    "#4th Subcategories\n",
    "col_list = [\"Main Category\", \"1st Subcategory\", \"2nd Subcategory\", \"3rd Subcategory\", \"4th Subcategory\"]\n",
    "df_products_4 = encoding(df_products_4, col_list)\n",
    "#All Subcategories\n",
    "col_list = [\"Main Category\", \"1st Subcategory\", \"2nd Subcategory\", \"3rd Subcategory\", \"4th Subcategory\", \"5th Subcategory\"]\n",
    "df_products_all = encoding(df_products_all, col_list)"
   ]
  },
  {
   "cell_type": "code",
   "execution_count": 22,
   "metadata": {},
   "outputs": [],
   "source": [
    "df_products_1.drop([\"1st Subcategory_nan\"], axis=1, inplace=True)\n",
    "df_products_2.drop([\"1st Subcategory_nan\", \"2nd Subcategory_nan\"], axis=1, inplace=True)\n",
    "df_products_3.drop([\"1st Subcategory_nan\", \"2nd Subcategory_nan\", \"3rd Subcategory_nan\"], axis=1, inplace=True)\n",
    "df_products_4.drop([\"1st Subcategory_nan\", \"2nd Subcategory_nan\", \"3rd Subcategory_nan\", \"4th Subcategory_nan\"], axis=1, inplace=True)\n",
    "df_products_all.drop([\"1st Subcategory_nan\", \"2nd Subcategory_nan\", \"3rd Subcategory_nan\", \"4th Subcategory_nan\", \"5th Subcategory_nan\"], axis=1, inplace=True)"
   ]
  },
  {
   "cell_type": "code",
   "execution_count": 23,
   "metadata": {},
   "outputs": [
    {
     "name": "stdout",
     "output_type": "stream",
     "text": [
      "(45232, 34)\n",
      "(45232, 155)\n",
      "(45232, 497)\n",
      "(45232, 779)\n",
      "(45232, 896)\n",
      "(45232, 911)\n"
     ]
    }
   ],
   "source": [
    "print(df_products_main.shape)\n",
    "print(df_products_1.shape)\n",
    "print(df_products_2.shape)\n",
    "print(df_products_3.shape)\n",
    "print(df_products_4.shape)\n",
    "print(df_products_all.shape)"
   ]
  },
  {
   "cell_type": "code",
   "execution_count": 25,
   "metadata": {},
   "outputs": [],
   "source": [
    "df_products_main.to_csv(\"dataframe_main.csv\")\n",
    "df_products_1.to_csv(\"dataframe_1.csv\")\n",
    "df_products_2.to_csv(\"dataframe_2.csv\")\n",
    "df_products_3.to_csv(\"dataframe_3.csv\")\n",
    "df_products_4.to_csv(\"dataframe_4.csv\")\n",
    "df_products_all.to_csv(\"dataframe_all.csv\")"
   ]
  },
  {
   "cell_type": "markdown",
   "metadata": {},
   "source": [
    "Let´s divide the dataset into train and test, and vectorize my categorial column."
   ]
  },
  {
   "cell_type": "code",
   "execution_count": 27,
   "metadata": {},
   "outputs": [],
   "source": [
    "from sklearn.datasets import make_multilabel_classification\n",
    "from iterstrat.ml_stratifiers import MultilabelStratifiedShuffleSplit\n",
    "from sklearn.utils import indexable, _safe_indexing\n",
    "from sklearn.utils.validation import _num_samples\n",
    "from sklearn.model_selection._split import _validate_shuffle_split\n",
    "from itertools import chain"
   ]
  },
  {
   "cell_type": "code",
   "execution_count": 28,
   "metadata": {},
   "outputs": [],
   "source": [
    "def multilabel_train_test_split(*arrays,\n",
    "                                test_size=None,\n",
    "                                train_size=None,\n",
    "                                random_state=None,\n",
    "                                shuffle=True,\n",
    "                                stratify=None):\n",
    "    \"\"\"\n",
    "    Train test split for multilabel classification. Uses the algorithm from: \n",
    "    'Sechidis K., Tsoumakas G., Vlahavas I. (2011) On the Stratification of Multi-Label Data'.\n",
    "    \"\"\"\n",
    "    if stratify is None:\n",
    "        return train_test_split(*arrays, test_size=test_size,train_size=train_size,\n",
    "                                random_state=random_state, stratify=None, shuffle=shuffle)\n",
    "    \n",
    "    assert shuffle, \"Stratified train/test split is not implemented for shuffle=False\"\n",
    "    \n",
    "    n_arrays = len(arrays)\n",
    "    arrays = indexable(*arrays)\n",
    "    n_samples = _num_samples(arrays[0])\n",
    "    n_train, n_test = _validate_shuffle_split(\n",
    "        n_samples, test_size, train_size, default_test_size=0.25\n",
    "    )\n",
    "    cv = MultilabelStratifiedShuffleSplit(test_size=n_test, train_size=n_train, random_state=123)\n",
    "    train, test = next(cv.split(X=arrays[0], y=stratify))\n",
    "\n",
    "    return list(\n",
    "        chain.from_iterable(\n",
    "            (_safe_indexing(a, train), _safe_indexing(a, test)) for a in arrays\n",
    "        )\n",
    "    )"
   ]
  },
  {
   "cell_type": "code",
   "execution_count": 29,
   "metadata": {},
   "outputs": [],
   "source": [
    "#Main categories\n",
    "X_main = df_products_main[\"information\"]\n",
    "y_main = df_products_main.drop([\"information\"],axis=1)\n",
    "X_main_train, X_main_test, y_main_train, y_main_test = multilabel_train_test_split(X_main, y_main, test_size= 0.3, shuffle=True,stratify=y_main)\n",
    "\n",
    "#1st Subcategories\n",
    "X_1 = df_products_1[\"information\"]\n",
    "y_1 = df_products_1.drop([\"information\"],axis=1)\n",
    "X_1_train, X_1_test, y_1_train, y_1_test = multilabel_train_test_split(X_1, y_1, test_size= 0.3, shuffle=True,stratify=y_1)\n",
    "\n",
    "#2nd Subcategory\n",
    "X_2 = df_products_2[\"information\"]\n",
    "y_2 = df_products_2.drop([\"information\"],axis=1)\n",
    "X_2_train, X_2_test, y_2_train, y_2_test = multilabel_train_test_split(X_2, y_2, test_size= 0.3 ,random_state = 27, shuffle=True, stratify=y_2)\n",
    "\n",
    "#3rd Subcategories\n",
    "X_3 = df_products_3[\"information\"]\n",
    "y_3 = df_products_3.drop([\"information\"],axis=1)\n",
    "X_3_train, X_3_test, y_3_train, y_3_test = multilabel_train_test_split(X_3, y_3, test_size= 0.3 ,random_state = 27, shuffle=True, stratify=y_3)\n",
    "\n",
    "#4th Subcategories\n",
    "X_4 = df_products_4[\"information\"]\n",
    "y_4 = df_products_4.drop([\"information\"],axis=1)\n",
    "X_4_train, X_4_test, y_4_train, y_4_test = multilabel_train_test_split(X_4, y_4, test_size= 0.3 ,random_state = 27, shuffle=True, stratify=y_4)\n",
    "\n",
    "\n",
    "#All subcategories\n",
    "X_all = df_products_all[\"information\"]\n",
    "y_all = df_products_all.drop([\"information\"],axis=1)\n",
    "X_all_train, X_all_test, y_all_train, y_all_test = multilabel_train_test_split(X_all, y_all, test_size= 0.3 ,random_state = 27, shuffle=True, stratify=y_all)"
   ]
  },
  {
   "cell_type": "code",
   "execution_count": 32,
   "metadata": {},
   "outputs": [],
   "source": [
    "from sklearn.feature_extraction.text import TfidfVectorizer"
   ]
  },
  {
   "cell_type": "code",
   "execution_count": 33,
   "metadata": {},
   "outputs": [],
   "source": [
    "#Main Category\n",
    "tfidf_vectorizer = TfidfVectorizer(ngram_range=(1,2), max_features=1000)\n",
    "train_main_vect = tfidf_vectorizer.fit_transform(X_main_train)\n",
    "test_main_vect  = tfidf_vectorizer.transform(X_main_test)\n",
    "\n",
    "#1st Subcategory\n",
    "tfidf_vectorizer_1 = TfidfVectorizer(ngram_range=(1,2), max_features=1000)\n",
    "train_1_vect = tfidf_vectorizer_1.fit_transform(X_1_train)\n",
    "test_1_vect  = tfidf_vectorizer_1.transform(X_1_test)\n",
    "\n",
    "#2nd Subcategory\n",
    "tfidf_vectorizer_2 = TfidfVectorizer(ngram_range=(1,2), max_features=1000)\n",
    "train_2_vect = tfidf_vectorizer_2.fit_transform(X_2_train)\n",
    "test_2_vect  = tfidf_vectorizer_2.transform(X_2_test)\n",
    "\n",
    "#3rd Subcategory\n",
    "tfidf_vectorizer_3 = TfidfVectorizer(ngram_range=(1,2), max_features=1000)\n",
    "train_3_vect = tfidf_vectorizer_3.fit_transform(X_3_train)\n",
    "test_3_vect  = tfidf_vectorizer_3.transform(X_3_test)\n",
    "\n",
    "#4th Subcategory\n",
    "tfidf_vectorizer_4 = TfidfVectorizer(ngram_range=(1,2), max_features=1000)\n",
    "train_4_vect = tfidf_vectorizer_4.fit_transform(X_4_train)\n",
    "test_4_vect  = tfidf_vectorizer_4.transform(X_4_test)\n",
    "\n",
    "#All categories\n",
    "tfidf_vectorizer_all = TfidfVectorizer(ngram_range=(1,2), max_features=1000)\n",
    "tfidf = tfidf_vectorizer_all.fit(X_all_train)\n",
    "train_all_vect = tfidf.transform(X_all_train)\n",
    "test_all_vect  = tfidf_vectorizer_all.transform(X_all_test)\n"
   ]
  },
  {
   "cell_type": "markdown",
   "metadata": {},
   "source": [
    "## Modeling"
   ]
  },
  {
   "cell_type": "markdown",
   "metadata": {},
   "source": [
    "The idea is trying to find the best model while trying to find the best dataframe, by this I mean the dataframe that performs the best and has the most amount of subcategories. The parameters I am considerating to take this decision are a mix between efficiency, by this I mean the time it takes training the model for that particular dataframe, and logically the performance. \n",
    "\n",
    "The first attempt will be to find the best model for my baseline, and then try to improve it by tunning the hyperparameters, finding more complex and better algorithms and also neural networks. For now I am not interested in those complex algorithms, so I am going to use the simplest one of them, the Binary Relevance (Scikit-MultiLearn).\n",
    "\n",
    "This algorithm treats each label independently, the multi-labels are separated as single-class classification and then the average of all these results is given, with the Logistic Regression as my chosen classifier."
   ]
  },
  {
   "cell_type": "code",
   "execution_count": 40,
   "metadata": {},
   "outputs": [],
   "source": [
    "from skmultilearn.problem_transform import BinaryRelevance\n",
    "from sklearn.linear_model import LogisticRegression\n",
    "import time\n",
    "from Model import evaluation"
   ]
  },
  {
   "cell_type": "code",
   "execution_count": 41,
   "metadata": {},
   "outputs": [
    {
     "name": "stdout",
     "output_type": "stream",
     "text": [
      "The time it takes to fit the Main category model is 4 seconds.\n",
      "The time it takes to fit the 1st Subcategoy model is 17 seconds.\n",
      "The time it takes to fit the 2nd Subcategory model is 44 seconds.\n",
      "The time it takes to fit the 3rd Subcategory model is 66 seconds.\n",
      "The time it takes to fit the 4th Subcategory model is 79 seconds.\n",
      "The time it takes to fit the 5th Subcategory model is 77 seconds.\n"
     ]
    }
   ],
   "source": [
    "#Main\n",
    "lr_main = BinaryRelevance(classifier=LogisticRegression(), require_dense=[False, True])   \n",
    "inicio = time.time()\n",
    "lr_main.fit(train_main_vect,y_main_train)\n",
    "fin = time.time()\n",
    "print(\"The time it takes to fit the Main category model is\",round(fin-inicio),\"seconds.\")\n",
    "\n",
    "#1st Subcategory\n",
    "lr_1 = BinaryRelevance(classifier=LogisticRegression(), require_dense=[False, True])\n",
    "inicio = time.time()\n",
    "lr_1.fit(train_1_vect,y_1_train)\n",
    "fin = time.time()\n",
    "print(\"The time it takes to fit the 1st Subcategoy model is\",round(fin-inicio),\"seconds.\")\n",
    "\n",
    "#2nd Subcategory\n",
    "lr_2 = BinaryRelevance(classifier=LogisticRegression(),require_dense=[False, True])\n",
    "inicio = time.time()\n",
    "lr_2.fit(train_2_vect,y_2_train)\n",
    "fin = time.time()\n",
    "print(\"The time it takes to fit the 2nd Subcategory model is\",round(fin-inicio),\"seconds.\")\n",
    "\n",
    "#3rd Subcategory\n",
    "lr_3 = BinaryRelevance(classifier=LogisticRegression(),require_dense=[False, True])\n",
    "inicio = time.time()\n",
    "lr_3.fit(train_3_vect,y_3_train)\n",
    "fin = time.time()\n",
    "print(\"The time it takes to fit the 3rd Subcategory model is\",round(fin-inicio),\"seconds.\")\n",
    "\n",
    "#4th Subcategory\n",
    "lr_4 = BinaryRelevance(classifier=LogisticRegression(),require_dense=[False, True])\n",
    "inicio = time.time()\n",
    "lr_4.fit(train_4_vect,y_4_train)\n",
    "fin = time.time()\n",
    "print(\"The time it takes to fit the 4th Subcategory model is\",round(fin-inicio),\"seconds.\")\n",
    "\n",
    "#All subcategories\n",
    "lr_all = BinaryRelevance(classifier=LogisticRegression(),require_dense=[False, True])\n",
    "inicio = time.time()\n",
    "lr_all.fit(train_all_vect,y_all_train)\n",
    "fin = time.time()\n",
    "print(\"The time it takes to fit the 5th Subcategory model is\",round(fin-inicio),\"seconds.\")"
   ]
  },
  {
   "cell_type": "code",
   "execution_count": 42,
   "metadata": {},
   "outputs": [],
   "source": [
    "#Predictions\n",
    "predictions_main = lr_main.predict(test_main_vect)\n",
    "predictions_1 = lr_1.predict(test_1_vect)\n",
    "predictions_2 = lr_2.predict(test_2_vect)\n",
    "predictions_3 = lr_3.predict(test_3_vect)\n",
    "predictions_4 = lr_4.predict(test_4_vect)\n",
    "predictions_all = lr_all.predict(test_all_vect)"
   ]
  },
  {
   "cell_type": "code",
   "execution_count": 43,
   "metadata": {},
   "outputs": [
    {
     "name": "stdout",
     "output_type": "stream",
     "text": [
      "MAIN CATEGORY\n",
      "Evaluation Metrics\n",
      "------------------------------\n",
      "F1 Score: 0.9031476997578693\n",
      "Recall Score: 0.8520374327610346\n",
      "Precision Score: 0.9607810552555047\n",
      "Hamming Loss: 0.005537654937109657 \n",
      "\n",
      "1ST SUBATEGORY\n",
      "Evaluation Metrics\n",
      "------------------------------\n",
      "F1 Score: 0.8659785419084264\n",
      "Recall Score: 0.7893115605863796\n",
      "Precision Score: 0.9591413367006404\n",
      "Hamming Loss: 0.0031498602348208125 \n",
      "\n",
      "2ND SUBCATEGORY\n",
      "Evaluation Metrics\n",
      "------------------------------\n",
      "F1 Score: 0.8239724521942999\n",
      "Recall Score: 0.7280165717244951\n",
      "Precision Score: 0.9490632911392405\n",
      "Hamming Loss: 0.0017840128214876348 \n",
      "\n",
      "3RD SUBCATEGORY\n",
      "Evaluation Metrics\n",
      "------------------------------\n",
      "F1 Score: 0.7987938106129332\n",
      "Recall Score: 0.6911205447952595\n",
      "Precision Score: 0.9462085666717118\n",
      "Hamming Loss: 0.001490892744340913 \n",
      "\n",
      "4TH SUBCATEGORY\n",
      "Evaluation Metrics\n",
      "------------------------------\n",
      "F1 Score: 0.792039083574705\n",
      "Recall Score: 0.6810980693990123\n",
      "Precision Score: 0.9461538461538461\n",
      "Hamming Loss: 0.001376509324083647 \n",
      "\n",
      "ALL CATEGORIES\n",
      "Evaluation Metrics\n",
      "------------------------------\n",
      "F1 Score: 0.7908934046699853\n",
      "Recall Score: 0.6796381635091312\n",
      "Precision Score: 0.9457028350898026\n",
      "Hamming Loss: 0.0013629059793100434 \n",
      "\n"
     ]
    }
   ],
   "source": [
    "categories = [\"Main Category\", \"1st Subategory\", \"2nd Subcategory\", \"3rd Subcategory\", \"4th Subcategory\", \"All Categories\"]\n",
    "ys = [y_main_test, y_1_test, y_2_test, y_3_test, y_4_test, y_all_test]\n",
    "predictions = [predictions_main, predictions_1, predictions_2,  predictions_3, predictions_4, predictions_all]\n",
    "for i in range(len(categories)):\n",
    "    print(categories[i].upper())\n",
    "    evaluation.get_metrics(ys[i], predictions[i])\n"
   ]
  },
  {
   "cell_type": "markdown",
   "metadata": {},
   "source": [
    "With this results I would not need to appeal for a subcategories reduction, as it had worked very good considerating all the categories. Even though it takes a lot more time to train it, trying to improve the performance of a model which can only predict less categories will not save me any time at the long term.\n",
    "\n",
    "Also, having seen this results I could try to achieve the best result possible with the \"All categories\" dataframe which I already know it has a very good potential. \n",
    "\n",
    "The following experiments will be lead on a different notebook, and with this results I conclude the EDA notebook for this proeject..!"
   ]
  }
 ],
 "metadata": {
  "interpreter": {
   "hash": "aee8b7b246df8f9039afb4144a1f6fd8d2ca17a180786b69acc140d282b71a49"
  },
  "kernelspec": {
   "display_name": "Python 3.10.4 64-bit",
   "language": "python",
   "name": "python3"
  },
  "language_info": {
   "codemirror_mode": {
    "name": "ipython",
    "version": 3
   },
   "file_extension": ".py",
   "mimetype": "text/x-python",
   "name": "python",
   "nbconvert_exporter": "python",
   "pygments_lexer": "ipython3",
   "version": "3.10.4"
  },
  "orig_nbformat": 4
 },
 "nbformat": 4,
 "nbformat_minor": 2
}
